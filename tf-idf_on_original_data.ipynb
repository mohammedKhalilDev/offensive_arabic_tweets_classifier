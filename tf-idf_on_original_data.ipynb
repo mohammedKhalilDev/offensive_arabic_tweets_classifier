{
 "cells": [
  {
   "cell_type": "code",
   "execution_count": 1,
   "id": "bc0f6f5c",
   "metadata": {},
   "outputs": [],
   "source": [
    "import pandas as pd\n",
    "import numpy as np \n",
    "from sklearn.feature_extraction.text import CountVectorizer\n",
    "from sklearn.feature_extraction.text import TfidfTransformer\n",
    "from sklearn.feature_extraction.text import TfidfVectorizer"
   ]
  },
  {
   "cell_type": "code",
   "execution_count": 3,
   "id": "f88c201c",
   "metadata": {},
   "outputs": [
    {
     "data": {
      "text/plain": [
       "0                 وصارت فطاير البقالات غذاء صحي 👎🏻 URL\n",
       "1    @USER روحي لبريده تلقين اشباه كثير بس ماحد زيك...\n",
       "2           @USER مش باين حاجه خالص 😣<LF>مش عارف بقى 😔\n",
       "3    #اليوم_الاثنين<LF><LF>👏 يقولك :%90  من المسلمي...\n",
       "4                     حمدلله ماحطها في فمي اساسا😷🤢 URL\n",
       "Name: tweet, dtype: object"
      ]
     },
     "execution_count": 3,
     "metadata": {},
     "output_type": "execute_result"
    }
   ],
   "source": [
    "#load data\n",
    "data = pd.read_csv('HT4.csv')\n",
    "tweets= data.tweet\n",
    "tweets.head()"
   ]
  },
  {
   "cell_type": "code",
   "execution_count": 11,
   "id": "828cbb70",
   "metadata": {},
   "outputs": [],
   "source": [
    "labels= data.OFF"
   ]
  },
  {
   "cell_type": "code",
   "execution_count": 13,
   "id": "9bab5904",
   "metadata": {},
   "outputs": [
    {
     "data": {
      "text/plain": [
       "(6844, 6844)"
      ]
     },
     "execution_count": 13,
     "metadata": {},
     "output_type": "execute_result"
    }
   ],
   "source": [
    "#split train & test data\n",
    "from sklearn.model_selection import train_test_split\n",
    "xtr,xts,ytr,yts= train_test_split(tweets,labels,test_size=0.2)\n",
    "len(xtr),len(ytr)"
   ]
  },
  {
   "cell_type": "code",
   "execution_count": 17,
   "id": "30f38e39",
   "metadata": {},
   "outputs": [],
   "source": [
    "#tf idf\n",
    "tf_idf = TfidfVectorizer()\n",
    "#applying tf idf to training data\n",
    "X_train_tf = tf_idf.fit_transform(xtr)\n",
    "X_train_tf = tf_idf.transform(xtr)"
   ]
  },
  {
   "cell_type": "code",
   "execution_count": 18,
   "id": "2f533a93",
   "metadata": {},
   "outputs": [
    {
     "name": "stdout",
     "output_type": "stream",
     "text": [
      "n_samples: 6844, n_features: 27914\n"
     ]
    }
   ],
   "source": [
    "print(\"n_samples: %d, n_features: %d\" % X_train_tf.shape)"
   ]
  },
  {
   "cell_type": "code",
   "execution_count": 19,
   "id": "640293c5",
   "metadata": {},
   "outputs": [
    {
     "name": "stdout",
     "output_type": "stream",
     "text": [
      "n_samples: 1711, n_features: 27914\n"
     ]
    }
   ],
   "source": [
    "#transforming test data into tf-idf matrix\n",
    "X_test_tf = tf_idf.transform(xts)\n",
    "print(\"n_samples: %d, n_features: %d\" % X_test_tf.shape)"
   ]
  },
  {
   "cell_type": "code",
   "execution_count": 22,
   "id": "83c39e5a",
   "metadata": {},
   "outputs": [
    {
     "data": {
      "text/plain": [
       "MultinomialNB()"
      ]
     },
     "execution_count": 22,
     "metadata": {},
     "output_type": "execute_result"
    }
   ],
   "source": [
    "#naive bayes\n",
    "from sklearn.naive_bayes import MultinomialNB\n",
    "naive_bayes_classifier = MultinomialNB()\n",
    "naive_bayes_classifier.fit(X_train_tf, ytr)"
   ]
  },
  {
   "cell_type": "code",
   "execution_count": 24,
   "id": "89a37d68",
   "metadata": {},
   "outputs": [
    {
     "name": "stdout",
     "output_type": "stream",
     "text": [
      "              precision    recall  f1-score   support\n",
      "\n",
      "    Positive       0.69      0.98      0.81      1096\n",
      "    Negative       0.83      0.20      0.32       615\n",
      "\n",
      "    accuracy                           0.70      1711\n",
      "   macro avg       0.76      0.59      0.56      1711\n",
      "weighted avg       0.74      0.70      0.63      1711\n",
      "\n"
     ]
    }
   ],
   "source": [
    "from sklearn import metrics\n",
    "#predicted y\n",
    "y_pred = naive_bayes_classifier.predict(X_test_tf)\n",
    "print(metrics.classification_report(yts, y_pred, target_names=['Positive', 'Negative']))"
   ]
  },
  {
   "cell_type": "code",
   "execution_count": 26,
   "id": "04ca6718",
   "metadata": {},
   "outputs": [
    {
     "name": "stdout",
     "output_type": "stream",
     "text": [
      "Confusion matrix:\n",
      "[[1070   26]\n",
      " [ 491  124]]\n"
     ]
    }
   ],
   "source": [
    "print(\"Confusion matrix:\")\n",
    "print(metrics.confusion_matrix(yts, y_pred))"
   ]
  },
  {
   "cell_type": "code",
   "execution_count": 31,
   "id": "ade30205",
   "metadata": {},
   "outputs": [
    {
     "data": {
      "text/plain": [
       "RandomForestClassifier(n_estimators=50)"
      ]
     },
     "execution_count": 31,
     "metadata": {},
     "output_type": "execute_result"
    }
   ],
   "source": [
    "#random forest\n",
    "from sklearn.ensemble import RandomForestClassifier\n",
    "\n",
    "random_forest = RandomForestClassifier(n_estimators=50)\n",
    "random_forest.fit(X_train_tf,ytr)"
   ]
  },
  {
   "cell_type": "code",
   "execution_count": 32,
   "id": "e441941f",
   "metadata": {},
   "outputs": [
    {
     "name": "stdout",
     "output_type": "stream",
     "text": [
      "              precision    recall  f1-score   support\n",
      "\n",
      "    Positive       0.69      0.96      0.80      1096\n",
      "    Negative       0.77      0.24      0.36       615\n",
      "\n",
      "    accuracy                           0.70      1711\n",
      "   macro avg       0.73      0.60      0.58      1711\n",
      "weighted avg       0.72      0.70      0.65      1711\n",
      "\n"
     ]
    }
   ],
   "source": [
    "#predicted y\n",
    "y_pred = random_forest.predict(X_test_tf)\n",
    "print(metrics.classification_report(yts, y_pred, target_names=['Positive', 'Negative']))"
   ]
  },
  {
   "cell_type": "code",
   "execution_count": 33,
   "id": "57f9db08",
   "metadata": {},
   "outputs": [
    {
     "name": "stdout",
     "output_type": "stream",
     "text": [
      "Confusion matrix:\n",
      "[[1051   45]\n",
      " [ 468  147]]\n"
     ]
    }
   ],
   "source": [
    "print(\"Confusion matrix:\")\n",
    "print(metrics.confusion_matrix(yts, y_pred))"
   ]
  },
  {
   "cell_type": "code",
   "execution_count": 34,
   "id": "f8744ea2",
   "metadata": {},
   "outputs": [
    {
     "data": {
      "text/plain": [
       "SVC()"
      ]
     },
     "execution_count": 34,
     "metadata": {},
     "output_type": "execute_result"
    }
   ],
   "source": [
    "#svm\n",
    "from sklearn.svm import SVC\n",
    "\n",
    "svm = SVC()\n",
    "svm.fit(X_train_tf,ytr)"
   ]
  },
  {
   "cell_type": "code",
   "execution_count": 37,
   "id": "0253c16a",
   "metadata": {},
   "outputs": [
    {
     "name": "stdout",
     "output_type": "stream",
     "text": [
      "              precision    recall  f1-score   support\n",
      "\n",
      "    Positive       0.71      0.93      0.81      1096\n",
      "    Negative       0.73      0.33      0.46       615\n",
      "\n",
      "    accuracy                           0.72      1711\n",
      "   macro avg       0.72      0.63      0.63      1711\n",
      "weighted avg       0.72      0.72      0.68      1711\n",
      "\n"
     ]
    }
   ],
   "source": [
    "#predicted y\n",
    "y_pred = svm.predict(X_test_tf)\n",
    "print(metrics.classification_report(yts, y_pred, target_names=['Positive', 'Negative']))"
   ]
  },
  {
   "cell_type": "code",
   "execution_count": 36,
   "id": "9d1a295a",
   "metadata": {},
   "outputs": [
    {
     "name": "stdout",
     "output_type": "stream",
     "text": [
      "Confusion matrix:\n",
      "[[1051   45]\n",
      " [ 468  147]]\n"
     ]
    }
   ],
   "source": [
    "print(\"Confusion matrix:\")\n",
    "print(metrics.confusion_matrix(yts, y_pred))"
   ]
  }
 ],
 "metadata": {
  "kernelspec": {
   "display_name": "Python 3 (ipykernel)",
   "language": "python",
   "name": "python3"
  },
  "language_info": {
   "codemirror_mode": {
    "name": "ipython",
    "version": 3
   },
   "file_extension": ".py",
   "mimetype": "text/x-python",
   "name": "python",
   "nbconvert_exporter": "python",
   "pygments_lexer": "ipython3",
   "version": "3.9.7"
  }
 },
 "nbformat": 4,
 "nbformat_minor": 5
}
