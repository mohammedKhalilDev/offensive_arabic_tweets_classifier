{
 "cells": [
  {
   "cell_type": "code",
   "execution_count": 19,
   "id": "779c4921",
   "metadata": {},
   "outputs": [],
   "source": [
    "import pandas as pd\n",
    "import numpy as np "
   ]
  },
  {
   "cell_type": "code",
   "execution_count": 47,
   "id": "d35ecfa3",
   "metadata": {},
   "outputs": [],
   "source": [
    "# readinag txt file and creating dataframe\n",
    "\n",
    "dataframe1 = pd.read_csv(\"nlp_ht.txt\",sep='\\t')\n",
    "  \n",
    "# storing this dataframe in a csv file\n",
    "dataframe1.to_csv('ht_comp.csv', \n",
    "                  index = None)\n",
    "\n",
    "\n",
    "data = pd.read_csv(\"off_comp.csv\")"
   ]
  },
  {
   "cell_type": "code",
   "execution_count": 48,
   "id": "30256ac5",
   "metadata": {},
   "outputs": [
    {
     "data": {
      "text/plain": [
       "Index(['index', 'tweet', 'OFF', 'HS', 'VLG', 'VIO'], dtype='object')"
      ]
     },
     "execution_count": 48,
     "metadata": {},
     "output_type": "execute_result"
    }
   ],
   "source": [
    "#add columns to the dataframe\n",
    "\n",
    "data.columns=['index' , 'tweet', 'OFF', 'HS', 'VLG' , 'VIO']\n",
    "data.columns"
   ]
  },
  {
   "cell_type": "code",
   "execution_count": 49,
   "id": "53593409",
   "metadata": {},
   "outputs": [
    {
     "data": {
      "text/html": [
       "<div>\n",
       "<style scoped>\n",
       "    .dataframe tbody tr th:only-of-type {\n",
       "        vertical-align: middle;\n",
       "    }\n",
       "\n",
       "    .dataframe tbody tr th {\n",
       "        vertical-align: top;\n",
       "    }\n",
       "\n",
       "    .dataframe thead th {\n",
       "        text-align: right;\n",
       "    }\n",
       "</style>\n",
       "<table border=\"1\" class=\"dataframe\">\n",
       "  <thead>\n",
       "    <tr style=\"text-align: right;\">\n",
       "      <th></th>\n",
       "      <th>index</th>\n",
       "      <th>tweet</th>\n",
       "      <th>OFF</th>\n",
       "      <th>HS</th>\n",
       "      <th>VLG</th>\n",
       "      <th>VIO</th>\n",
       "    </tr>\n",
       "  </thead>\n",
       "  <tbody>\n",
       "    <tr>\n",
       "      <th>0</th>\n",
       "      <td>2</td>\n",
       "      <td>وصارت فطاير البقالات غذاء صحي 👎🏻 URL</td>\n",
       "      <td>NOT_OFF</td>\n",
       "      <td>NOT_HS</td>\n",
       "      <td>NOT_VLG</td>\n",
       "      <td>NOT_VIO</td>\n",
       "    </tr>\n",
       "    <tr>\n",
       "      <th>1</th>\n",
       "      <td>3</td>\n",
       "      <td>@USER روحي لبريده تلقين اشباه كثير بس ماحد زيك...</td>\n",
       "      <td>OFF</td>\n",
       "      <td>NOT_HS</td>\n",
       "      <td>NOT_VLG</td>\n",
       "      <td>NOT_VIO</td>\n",
       "    </tr>\n",
       "    <tr>\n",
       "      <th>2</th>\n",
       "      <td>4</td>\n",
       "      <td>@USER مش باين حاجه خالص 😣&lt;LF&gt;مش عارف بقى 😔</td>\n",
       "      <td>NOT_OFF</td>\n",
       "      <td>NOT_HS</td>\n",
       "      <td>NOT_VLG</td>\n",
       "      <td>NOT_VIO</td>\n",
       "    </tr>\n",
       "    <tr>\n",
       "      <th>3</th>\n",
       "      <td>5</td>\n",
       "      <td>#اليوم_الاثنين&lt;LF&gt;&lt;LF&gt;👏 يقولك :%90  من المسلمي...</td>\n",
       "      <td>NOT_OFF</td>\n",
       "      <td>NOT_HS</td>\n",
       "      <td>NOT_VLG</td>\n",
       "      <td>NOT_VIO</td>\n",
       "    </tr>\n",
       "    <tr>\n",
       "      <th>4</th>\n",
       "      <td>6</td>\n",
       "      <td>حمدلله ماحطها في فمي اساسا😷🤢 URL</td>\n",
       "      <td>NOT_OFF</td>\n",
       "      <td>NOT_HS</td>\n",
       "      <td>NOT_VLG</td>\n",
       "      <td>NOT_VIO</td>\n",
       "    </tr>\n",
       "  </tbody>\n",
       "</table>\n",
       "</div>"
      ],
      "text/plain": [
       "  index                                              tweet      OFF      HS  \\\n",
       "0     2               وصارت فطاير البقالات غذاء صحي 👎🏻 URL  NOT_OFF  NOT_HS   \n",
       "1     3  @USER روحي لبريده تلقين اشباه كثير بس ماحد زيك...      OFF  NOT_HS   \n",
       "2     4         @USER مش باين حاجه خالص 😣<LF>مش عارف بقى 😔  NOT_OFF  NOT_HS   \n",
       "3     5  #اليوم_الاثنين<LF><LF>👏 يقولك :%90  من المسلمي...  NOT_OFF  NOT_HS   \n",
       "4     6                   حمدلله ماحطها في فمي اساسا😷🤢 URL  NOT_OFF  NOT_HS   \n",
       "\n",
       "       VLG      VIO  \n",
       "0  NOT_VLG  NOT_VIO  \n",
       "1  NOT_VLG  NOT_VIO  \n",
       "2  NOT_VLG  NOT_VIO  \n",
       "3  NOT_VLG  NOT_VIO  \n",
       "4  NOT_VLG  NOT_VIO  "
      ]
     },
     "execution_count": 49,
     "metadata": {},
     "output_type": "execute_result"
    }
   ],
   "source": [
    "data.head()"
   ]
  },
  {
   "cell_type": "code",
   "execution_count": 50,
   "id": "712684e6",
   "metadata": {},
   "outputs": [
    {
     "data": {
      "text/html": [
       "<div>\n",
       "<style scoped>\n",
       "    .dataframe tbody tr th:only-of-type {\n",
       "        vertical-align: middle;\n",
       "    }\n",
       "\n",
       "    .dataframe tbody tr th {\n",
       "        vertical-align: top;\n",
       "    }\n",
       "\n",
       "    .dataframe thead th {\n",
       "        text-align: right;\n",
       "    }\n",
       "</style>\n",
       "<table border=\"1\" class=\"dataframe\">\n",
       "  <thead>\n",
       "    <tr style=\"text-align: right;\">\n",
       "      <th></th>\n",
       "      <th>tweet</th>\n",
       "      <th>OFF</th>\n",
       "      <th>HS</th>\n",
       "      <th>VLG</th>\n",
       "      <th>VIO</th>\n",
       "    </tr>\n",
       "  </thead>\n",
       "  <tbody>\n",
       "    <tr>\n",
       "      <th>0</th>\n",
       "      <td>وصارت فطاير البقالات غذاء صحي 👎🏻 URL</td>\n",
       "      <td>NOT_OFF</td>\n",
       "      <td>NOT_HS</td>\n",
       "      <td>NOT_VLG</td>\n",
       "      <td>NOT_VIO</td>\n",
       "    </tr>\n",
       "    <tr>\n",
       "      <th>1</th>\n",
       "      <td>@USER روحي لبريده تلقين اشباه كثير بس ماحد زيك...</td>\n",
       "      <td>OFF</td>\n",
       "      <td>NOT_HS</td>\n",
       "      <td>NOT_VLG</td>\n",
       "      <td>NOT_VIO</td>\n",
       "    </tr>\n",
       "    <tr>\n",
       "      <th>2</th>\n",
       "      <td>@USER مش باين حاجه خالص 😣&lt;LF&gt;مش عارف بقى 😔</td>\n",
       "      <td>NOT_OFF</td>\n",
       "      <td>NOT_HS</td>\n",
       "      <td>NOT_VLG</td>\n",
       "      <td>NOT_VIO</td>\n",
       "    </tr>\n",
       "    <tr>\n",
       "      <th>3</th>\n",
       "      <td>#اليوم_الاثنين&lt;LF&gt;&lt;LF&gt;👏 يقولك :%90  من المسلمي...</td>\n",
       "      <td>NOT_OFF</td>\n",
       "      <td>NOT_HS</td>\n",
       "      <td>NOT_VLG</td>\n",
       "      <td>NOT_VIO</td>\n",
       "    </tr>\n",
       "    <tr>\n",
       "      <th>4</th>\n",
       "      <td>حمدلله ماحطها في فمي اساسا😷🤢 URL</td>\n",
       "      <td>NOT_OFF</td>\n",
       "      <td>NOT_HS</td>\n",
       "      <td>NOT_VLG</td>\n",
       "      <td>NOT_VIO</td>\n",
       "    </tr>\n",
       "  </tbody>\n",
       "</table>\n",
       "</div>"
      ],
      "text/plain": [
       "                                               tweet      OFF      HS  \\\n",
       "0               وصارت فطاير البقالات غذاء صحي 👎🏻 URL  NOT_OFF  NOT_HS   \n",
       "1  @USER روحي لبريده تلقين اشباه كثير بس ماحد زيك...      OFF  NOT_HS   \n",
       "2         @USER مش باين حاجه خالص 😣<LF>مش عارف بقى 😔  NOT_OFF  NOT_HS   \n",
       "3  #اليوم_الاثنين<LF><LF>👏 يقولك :%90  من المسلمي...  NOT_OFF  NOT_HS   \n",
       "4                   حمدلله ماحطها في فمي اساسا😷🤢 URL  NOT_OFF  NOT_HS   \n",
       "\n",
       "       VLG      VIO  \n",
       "0  NOT_VLG  NOT_VIO  \n",
       "1  NOT_VLG  NOT_VIO  \n",
       "2  NOT_VLG  NOT_VIO  \n",
       "3  NOT_VLG  NOT_VIO  \n",
       "4  NOT_VLG  NOT_VIO  "
      ]
     },
     "execution_count": 50,
     "metadata": {},
     "output_type": "execute_result"
    }
   ],
   "source": [
    "#drop useless columns\n",
    "data.drop('index' ,axis= 1 ,inplace= True)\n",
    "data.head()"
   ]
  },
  {
   "cell_type": "code",
   "execution_count": 51,
   "id": "03fb9758",
   "metadata": {},
   "outputs": [
    {
     "data": {
      "text/plain": [
       "tweet    object\n",
       "OFF      object\n",
       "HS       object\n",
       "VLG      object\n",
       "VIO      object\n",
       "dtype: object"
      ]
     },
     "execution_count": 51,
     "metadata": {},
     "output_type": "execute_result"
    }
   ],
   "source": [
    "#for data cleaning\n",
    "data.dtypes"
   ]
  },
  {
   "cell_type": "code",
   "execution_count": 75,
   "id": "a17761fa",
   "metadata": {},
   "outputs": [
    {
     "data": {
      "text/plain": [
       "array([0, 1], dtype=object)"
      ]
     },
     "execution_count": 75,
     "metadata": {},
     "output_type": "execute_result"
    }
   ],
   "source": [
    "data.OFF.unique()"
   ]
  },
  {
   "cell_type": "code",
   "execution_count": 57,
   "id": "bae85a80",
   "metadata": {},
   "outputs": [],
   "source": [
    "data[\"OFF\"].replace({\"OFF\": 1, \"NOT_OFF\": 0}, inplace=True)"
   ]
  },
  {
   "cell_type": "code",
   "execution_count": 69,
   "id": "0c75e36f",
   "metadata": {},
   "outputs": [
    {
     "data": {
      "text/html": [
       "<div>\n",
       "<style scoped>\n",
       "    .dataframe tbody tr th:only-of-type {\n",
       "        vertical-align: middle;\n",
       "    }\n",
       "\n",
       "    .dataframe tbody tr th {\n",
       "        vertical-align: top;\n",
       "    }\n",
       "\n",
       "    .dataframe thead th {\n",
       "        text-align: right;\n",
       "    }\n",
       "</style>\n",
       "<table border=\"1\" class=\"dataframe\">\n",
       "  <thead>\n",
       "    <tr style=\"text-align: right;\">\n",
       "      <th></th>\n",
       "      <th>tweet</th>\n",
       "      <th>OFF</th>\n",
       "      <th>HS</th>\n",
       "      <th>VLG</th>\n",
       "      <th>VIO</th>\n",
       "    </tr>\n",
       "  </thead>\n",
       "  <tbody>\n",
       "    <tr>\n",
       "      <th>0</th>\n",
       "      <td>وصارت فطاير البقالات غذاء صحي 👎🏻 URL</td>\n",
       "      <td>0</td>\n",
       "      <td>NOT_HS</td>\n",
       "      <td>NOT_VLG</td>\n",
       "      <td>NOT_VIO</td>\n",
       "    </tr>\n",
       "    <tr>\n",
       "      <th>1</th>\n",
       "      <td>@USER روحي لبريده تلقين اشباه كثير بس ماحد زيك...</td>\n",
       "      <td>1</td>\n",
       "      <td>NOT_HS</td>\n",
       "      <td>NOT_VLG</td>\n",
       "      <td>NOT_VIO</td>\n",
       "    </tr>\n",
       "    <tr>\n",
       "      <th>2</th>\n",
       "      <td>@USER مش باين حاجه خالص 😣&lt;LF&gt;مش عارف بقى 😔</td>\n",
       "      <td>0</td>\n",
       "      <td>NOT_HS</td>\n",
       "      <td>NOT_VLG</td>\n",
       "      <td>NOT_VIO</td>\n",
       "    </tr>\n",
       "    <tr>\n",
       "      <th>3</th>\n",
       "      <td>#اليوم_الاثنين&lt;LF&gt;&lt;LF&gt;👏 يقولك :%90  من المسلمي...</td>\n",
       "      <td>0</td>\n",
       "      <td>NOT_HS</td>\n",
       "      <td>NOT_VLG</td>\n",
       "      <td>NOT_VIO</td>\n",
       "    </tr>\n",
       "    <tr>\n",
       "      <th>4</th>\n",
       "      <td>حمدلله ماحطها في فمي اساسا😷🤢 URL</td>\n",
       "      <td>0</td>\n",
       "      <td>NOT_HS</td>\n",
       "      <td>NOT_VLG</td>\n",
       "      <td>NOT_VIO</td>\n",
       "    </tr>\n",
       "  </tbody>\n",
       "</table>\n",
       "</div>"
      ],
      "text/plain": [
       "                                               tweet OFF      HS      VLG  \\\n",
       "0               وصارت فطاير البقالات غذاء صحي 👎🏻 URL   0  NOT_HS  NOT_VLG   \n",
       "1  @USER روحي لبريده تلقين اشباه كثير بس ماحد زيك...   1  NOT_HS  NOT_VLG   \n",
       "2         @USER مش باين حاجه خالص 😣<LF>مش عارف بقى 😔   0  NOT_HS  NOT_VLG   \n",
       "3  #اليوم_الاثنين<LF><LF>👏 يقولك :%90  من المسلمي...   0  NOT_HS  NOT_VLG   \n",
       "4                   حمدلله ماحطها في فمي اساسا😷🤢 URL   0  NOT_HS  NOT_VLG   \n",
       "\n",
       "       VIO  \n",
       "0  NOT_VIO  \n",
       "1  NOT_VIO  \n",
       "2  NOT_VIO  \n",
       "3  NOT_VIO  \n",
       "4  NOT_VIO  "
      ]
     },
     "execution_count": 69,
     "metadata": {},
     "output_type": "execute_result"
    }
   ],
   "source": [
    "data.head()"
   ]
  },
  {
   "cell_type": "code",
   "execution_count": 60,
   "id": "750ff97b",
   "metadata": {},
   "outputs": [
    {
     "data": {
      "text/plain": [
       "tweet    134\n",
       "OFF      135\n",
       "HS       135\n",
       "VLG      135\n",
       "VIO      136\n",
       "dtype: int64"
      ]
     },
     "execution_count": 60,
     "metadata": {},
     "output_type": "execute_result"
    }
   ],
   "source": [
    "#check nulls\n",
    "data.isna().sum()"
   ]
  },
  {
   "cell_type": "code",
   "execution_count": 61,
   "id": "47c189e8",
   "metadata": {},
   "outputs": [
    {
     "data": {
      "text/plain": [
       "8691"
      ]
     },
     "execution_count": 61,
     "metadata": {},
     "output_type": "execute_result"
    }
   ],
   "source": [
    "len(data)"
   ]
  },
  {
   "cell_type": "code",
   "execution_count": 62,
   "id": "14e73d77",
   "metadata": {},
   "outputs": [],
   "source": [
    "data.dropna(inplace=True)"
   ]
  },
  {
   "cell_type": "code",
   "execution_count": 63,
   "id": "327edabb",
   "metadata": {},
   "outputs": [
    {
     "data": {
      "text/plain": [
       "8555"
      ]
     },
     "execution_count": 63,
     "metadata": {},
     "output_type": "execute_result"
    }
   ],
   "source": [
    "len(data)"
   ]
  },
  {
   "cell_type": "code",
   "execution_count": 80,
   "id": "f852fa31",
   "metadata": {},
   "outputs": [],
   "source": [
    "data.to_csv('HT3.csv',index=False)"
   ]
  },
  {
   "cell_type": "code",
   "execution_count": 76,
   "id": "dcfde094",
   "metadata": {},
   "outputs": [
    {
     "data": {
      "text/plain": [
       "array(['NOT_HS', 'HS2', 'HS1', 'HS3', 'HS6', 'HS5'], dtype=object)"
      ]
     },
     "execution_count": 76,
     "metadata": {},
     "output_type": "execute_result"
    }
   ],
   "source": [
    "data.HS.unique()"
   ]
  },
  {
   "cell_type": "code",
   "execution_count": 78,
   "id": "b69b9340",
   "metadata": {},
   "outputs": [
    {
     "data": {
      "text/html": [
       "<div>\n",
       "<style scoped>\n",
       "    .dataframe tbody tr th:only-of-type {\n",
       "        vertical-align: middle;\n",
       "    }\n",
       "\n",
       "    .dataframe tbody tr th {\n",
       "        vertical-align: top;\n",
       "    }\n",
       "\n",
       "    .dataframe thead th {\n",
       "        text-align: right;\n",
       "    }\n",
       "</style>\n",
       "<table border=\"1\" class=\"dataframe\">\n",
       "  <thead>\n",
       "    <tr style=\"text-align: right;\">\n",
       "      <th></th>\n",
       "      <th>HS_HS1</th>\n",
       "      <th>HS_HS2</th>\n",
       "      <th>HS_HS3</th>\n",
       "      <th>HS_HS5</th>\n",
       "      <th>HS_HS6</th>\n",
       "      <th>HS_NOT_HS</th>\n",
       "    </tr>\n",
       "  </thead>\n",
       "  <tbody>\n",
       "    <tr>\n",
       "      <th>0</th>\n",
       "      <td>0</td>\n",
       "      <td>0</td>\n",
       "      <td>0</td>\n",
       "      <td>0</td>\n",
       "      <td>0</td>\n",
       "      <td>1</td>\n",
       "    </tr>\n",
       "    <tr>\n",
       "      <th>1</th>\n",
       "      <td>0</td>\n",
       "      <td>0</td>\n",
       "      <td>0</td>\n",
       "      <td>0</td>\n",
       "      <td>0</td>\n",
       "      <td>1</td>\n",
       "    </tr>\n",
       "    <tr>\n",
       "      <th>2</th>\n",
       "      <td>0</td>\n",
       "      <td>0</td>\n",
       "      <td>0</td>\n",
       "      <td>0</td>\n",
       "      <td>0</td>\n",
       "      <td>1</td>\n",
       "    </tr>\n",
       "    <tr>\n",
       "      <th>3</th>\n",
       "      <td>0</td>\n",
       "      <td>0</td>\n",
       "      <td>0</td>\n",
       "      <td>0</td>\n",
       "      <td>0</td>\n",
       "      <td>1</td>\n",
       "    </tr>\n",
       "    <tr>\n",
       "      <th>4</th>\n",
       "      <td>0</td>\n",
       "      <td>0</td>\n",
       "      <td>0</td>\n",
       "      <td>0</td>\n",
       "      <td>0</td>\n",
       "      <td>1</td>\n",
       "    </tr>\n",
       "  </tbody>\n",
       "</table>\n",
       "</div>"
      ],
      "text/plain": [
       "   HS_HS1  HS_HS2  HS_HS3  HS_HS5  HS_HS6  HS_NOT_HS\n",
       "0       0       0       0       0       0          1\n",
       "1       0       0       0       0       0          1\n",
       "2       0       0       0       0       0          1\n",
       "3       0       0       0       0       0          1\n",
       "4       0       0       0       0       0          1"
      ]
     },
     "execution_count": 78,
     "metadata": {},
     "output_type": "execute_result"
    }
   ],
   "source": [
    "ht = pd.get_dummies(data.HS, prefix='HS')\n",
    "ht.head()"
   ]
  },
  {
   "cell_type": "code",
   "execution_count": 79,
   "id": "d6ce2781",
   "metadata": {},
   "outputs": [
    {
     "data": {
      "text/html": [
       "<div>\n",
       "<style scoped>\n",
       "    .dataframe tbody tr th:only-of-type {\n",
       "        vertical-align: middle;\n",
       "    }\n",
       "\n",
       "    .dataframe tbody tr th {\n",
       "        vertical-align: top;\n",
       "    }\n",
       "\n",
       "    .dataframe thead th {\n",
       "        text-align: right;\n",
       "    }\n",
       "</style>\n",
       "<table border=\"1\" class=\"dataframe\">\n",
       "  <thead>\n",
       "    <tr style=\"text-align: right;\">\n",
       "      <th></th>\n",
       "      <th>tweet</th>\n",
       "      <th>OFF</th>\n",
       "      <th>HS</th>\n",
       "      <th>VLG</th>\n",
       "      <th>VIO</th>\n",
       "      <th>HS_HS1</th>\n",
       "      <th>HS_HS2</th>\n",
       "      <th>HS_HS3</th>\n",
       "      <th>HS_HS5</th>\n",
       "      <th>HS_HS6</th>\n",
       "      <th>HS_NOT_HS</th>\n",
       "    </tr>\n",
       "  </thead>\n",
       "  <tbody>\n",
       "    <tr>\n",
       "      <th>0</th>\n",
       "      <td>وصارت فطاير البقالات غذاء صحي 👎🏻 URL</td>\n",
       "      <td>0</td>\n",
       "      <td>NOT_HS</td>\n",
       "      <td>NOT_VLG</td>\n",
       "      <td>NOT_VIO</td>\n",
       "      <td>0</td>\n",
       "      <td>0</td>\n",
       "      <td>0</td>\n",
       "      <td>0</td>\n",
       "      <td>0</td>\n",
       "      <td>1</td>\n",
       "    </tr>\n",
       "    <tr>\n",
       "      <th>1</th>\n",
       "      <td>@USER روحي لبريده تلقين اشباه كثير بس ماحد زيك...</td>\n",
       "      <td>1</td>\n",
       "      <td>NOT_HS</td>\n",
       "      <td>NOT_VLG</td>\n",
       "      <td>NOT_VIO</td>\n",
       "      <td>0</td>\n",
       "      <td>0</td>\n",
       "      <td>0</td>\n",
       "      <td>0</td>\n",
       "      <td>0</td>\n",
       "      <td>1</td>\n",
       "    </tr>\n",
       "    <tr>\n",
       "      <th>2</th>\n",
       "      <td>@USER مش باين حاجه خالص 😣&lt;LF&gt;مش عارف بقى 😔</td>\n",
       "      <td>0</td>\n",
       "      <td>NOT_HS</td>\n",
       "      <td>NOT_VLG</td>\n",
       "      <td>NOT_VIO</td>\n",
       "      <td>0</td>\n",
       "      <td>0</td>\n",
       "      <td>0</td>\n",
       "      <td>0</td>\n",
       "      <td>0</td>\n",
       "      <td>1</td>\n",
       "    </tr>\n",
       "    <tr>\n",
       "      <th>3</th>\n",
       "      <td>#اليوم_الاثنين&lt;LF&gt;&lt;LF&gt;👏 يقولك :%90  من المسلمي...</td>\n",
       "      <td>0</td>\n",
       "      <td>NOT_HS</td>\n",
       "      <td>NOT_VLG</td>\n",
       "      <td>NOT_VIO</td>\n",
       "      <td>0</td>\n",
       "      <td>0</td>\n",
       "      <td>0</td>\n",
       "      <td>0</td>\n",
       "      <td>0</td>\n",
       "      <td>1</td>\n",
       "    </tr>\n",
       "    <tr>\n",
       "      <th>4</th>\n",
       "      <td>حمدلله ماحطها في فمي اساسا😷🤢 URL</td>\n",
       "      <td>0</td>\n",
       "      <td>NOT_HS</td>\n",
       "      <td>NOT_VLG</td>\n",
       "      <td>NOT_VIO</td>\n",
       "      <td>0</td>\n",
       "      <td>0</td>\n",
       "      <td>0</td>\n",
       "      <td>0</td>\n",
       "      <td>0</td>\n",
       "      <td>1</td>\n",
       "    </tr>\n",
       "  </tbody>\n",
       "</table>\n",
       "</div>"
      ],
      "text/plain": [
       "                                               tweet OFF      HS      VLG  \\\n",
       "0               وصارت فطاير البقالات غذاء صحي 👎🏻 URL   0  NOT_HS  NOT_VLG   \n",
       "1  @USER روحي لبريده تلقين اشباه كثير بس ماحد زيك...   1  NOT_HS  NOT_VLG   \n",
       "2         @USER مش باين حاجه خالص 😣<LF>مش عارف بقى 😔   0  NOT_HS  NOT_VLG   \n",
       "3  #اليوم_الاثنين<LF><LF>👏 يقولك :%90  من المسلمي...   0  NOT_HS  NOT_VLG   \n",
       "4                   حمدلله ماحطها في فمي اساسا😷🤢 URL   0  NOT_HS  NOT_VLG   \n",
       "\n",
       "       VIO  HS_HS1  HS_HS2  HS_HS3  HS_HS5  HS_HS6  HS_NOT_HS  \n",
       "0  NOT_VIO       0       0       0       0       0          1  \n",
       "1  NOT_VIO       0       0       0       0       0          1  \n",
       "2  NOT_VIO       0       0       0       0       0          1  \n",
       "3  NOT_VIO       0       0       0       0       0          1  \n",
       "4  NOT_VIO       0       0       0       0       0          1  "
      ]
     },
     "execution_count": 79,
     "metadata": {},
     "output_type": "execute_result"
    }
   ],
   "source": [
    "data=pd.concat([data, ht], axis=1)\n",
    "data.head()"
   ]
  },
  {
   "cell_type": "code",
   "execution_count": 82,
   "id": "8cca6705",
   "metadata": {},
   "outputs": [
    {
     "data": {
      "text/plain": [
       "(array(['NOT_VLG', 'VLG'], dtype=object),\n",
       " array(['NOT_VIO', 'VIO'], dtype=object))"
      ]
     },
     "execution_count": 82,
     "metadata": {},
     "output_type": "execute_result"
    }
   ],
   "source": [
    "data.VLG.unique(),data.VIO.unique()"
   ]
  },
  {
   "cell_type": "code",
   "execution_count": 83,
   "id": "3201adb8",
   "metadata": {},
   "outputs": [
    {
     "data": {
      "text/html": [
       "<div>\n",
       "<style scoped>\n",
       "    .dataframe tbody tr th:only-of-type {\n",
       "        vertical-align: middle;\n",
       "    }\n",
       "\n",
       "    .dataframe tbody tr th {\n",
       "        vertical-align: top;\n",
       "    }\n",
       "\n",
       "    .dataframe thead th {\n",
       "        text-align: right;\n",
       "    }\n",
       "</style>\n",
       "<table border=\"1\" class=\"dataframe\">\n",
       "  <thead>\n",
       "    <tr style=\"text-align: right;\">\n",
       "      <th></th>\n",
       "      <th>tweet</th>\n",
       "      <th>OFF</th>\n",
       "      <th>HS</th>\n",
       "      <th>VLG</th>\n",
       "      <th>VIO</th>\n",
       "      <th>HS_HS1</th>\n",
       "      <th>HS_HS2</th>\n",
       "      <th>HS_HS3</th>\n",
       "      <th>HS_HS5</th>\n",
       "      <th>HS_HS6</th>\n",
       "      <th>HS_NOT_HS</th>\n",
       "    </tr>\n",
       "  </thead>\n",
       "  <tbody>\n",
       "    <tr>\n",
       "      <th>0</th>\n",
       "      <td>وصارت فطاير البقالات غذاء صحي 👎🏻 URL</td>\n",
       "      <td>0</td>\n",
       "      <td>NOT_HS</td>\n",
       "      <td>0</td>\n",
       "      <td>0</td>\n",
       "      <td>0</td>\n",
       "      <td>0</td>\n",
       "      <td>0</td>\n",
       "      <td>0</td>\n",
       "      <td>0</td>\n",
       "      <td>1</td>\n",
       "    </tr>\n",
       "    <tr>\n",
       "      <th>1</th>\n",
       "      <td>@USER روحي لبريده تلقين اشباه كثير بس ماحد زيك...</td>\n",
       "      <td>1</td>\n",
       "      <td>NOT_HS</td>\n",
       "      <td>0</td>\n",
       "      <td>0</td>\n",
       "      <td>0</td>\n",
       "      <td>0</td>\n",
       "      <td>0</td>\n",
       "      <td>0</td>\n",
       "      <td>0</td>\n",
       "      <td>1</td>\n",
       "    </tr>\n",
       "    <tr>\n",
       "      <th>2</th>\n",
       "      <td>@USER مش باين حاجه خالص 😣&lt;LF&gt;مش عارف بقى 😔</td>\n",
       "      <td>0</td>\n",
       "      <td>NOT_HS</td>\n",
       "      <td>0</td>\n",
       "      <td>0</td>\n",
       "      <td>0</td>\n",
       "      <td>0</td>\n",
       "      <td>0</td>\n",
       "      <td>0</td>\n",
       "      <td>0</td>\n",
       "      <td>1</td>\n",
       "    </tr>\n",
       "    <tr>\n",
       "      <th>3</th>\n",
       "      <td>#اليوم_الاثنين&lt;LF&gt;&lt;LF&gt;👏 يقولك :%90  من المسلمي...</td>\n",
       "      <td>0</td>\n",
       "      <td>NOT_HS</td>\n",
       "      <td>0</td>\n",
       "      <td>0</td>\n",
       "      <td>0</td>\n",
       "      <td>0</td>\n",
       "      <td>0</td>\n",
       "      <td>0</td>\n",
       "      <td>0</td>\n",
       "      <td>1</td>\n",
       "    </tr>\n",
       "    <tr>\n",
       "      <th>4</th>\n",
       "      <td>حمدلله ماحطها في فمي اساسا😷🤢 URL</td>\n",
       "      <td>0</td>\n",
       "      <td>NOT_HS</td>\n",
       "      <td>0</td>\n",
       "      <td>0</td>\n",
       "      <td>0</td>\n",
       "      <td>0</td>\n",
       "      <td>0</td>\n",
       "      <td>0</td>\n",
       "      <td>0</td>\n",
       "      <td>1</td>\n",
       "    </tr>\n",
       "  </tbody>\n",
       "</table>\n",
       "</div>"
      ],
      "text/plain": [
       "                                               tweet OFF      HS  VLG  VIO  \\\n",
       "0               وصارت فطاير البقالات غذاء صحي 👎🏻 URL   0  NOT_HS    0    0   \n",
       "1  @USER روحي لبريده تلقين اشباه كثير بس ماحد زيك...   1  NOT_HS    0    0   \n",
       "2         @USER مش باين حاجه خالص 😣<LF>مش عارف بقى 😔   0  NOT_HS    0    0   \n",
       "3  #اليوم_الاثنين<LF><LF>👏 يقولك :%90  من المسلمي...   0  NOT_HS    0    0   \n",
       "4                   حمدلله ماحطها في فمي اساسا😷🤢 URL   0  NOT_HS    0    0   \n",
       "\n",
       "   HS_HS1  HS_HS2  HS_HS3  HS_HS5  HS_HS6  HS_NOT_HS  \n",
       "0       0       0       0       0       0          1  \n",
       "1       0       0       0       0       0          1  \n",
       "2       0       0       0       0       0          1  \n",
       "3       0       0       0       0       0          1  \n",
       "4       0       0       0       0       0          1  "
      ]
     },
     "execution_count": 83,
     "metadata": {},
     "output_type": "execute_result"
    }
   ],
   "source": [
    "data[\"VLG\"].replace({\"VLG\": 1, \"NOT_VLG\": 0}, inplace=True)\n",
    "data[\"VIO\"].replace({\"VIO\": 1, \"NOT_VIO\": 0}, inplace=True)\n",
    "data.head()"
   ]
  },
  {
   "cell_type": "code",
   "execution_count": 84,
   "id": "4b463ada",
   "metadata": {},
   "outputs": [
    {
     "data": {
      "text/plain": [
       "tweet        object\n",
       "OFF          object\n",
       "HS           object\n",
       "VLG           int64\n",
       "VIO           int64\n",
       "HS_HS1        uint8\n",
       "HS_HS2        uint8\n",
       "HS_HS3        uint8\n",
       "HS_HS5        uint8\n",
       "HS_HS6        uint8\n",
       "HS_NOT_HS     uint8\n",
       "dtype: object"
      ]
     },
     "execution_count": 84,
     "metadata": {},
     "output_type": "execute_result"
    }
   ],
   "source": [
    "data.dtypes"
   ]
  },
  {
   "cell_type": "code",
   "execution_count": 86,
   "id": "a56510ec",
   "metadata": {},
   "outputs": [
    {
     "data": {
      "text/plain": [
       "array([0, 1], dtype=object)"
      ]
     },
     "execution_count": 86,
     "metadata": {},
     "output_type": "execute_result"
    }
   ],
   "source": [
    "data.OFF.unique()"
   ]
  },
  {
   "cell_type": "code",
   "execution_count": 87,
   "id": "331b0a8f",
   "metadata": {},
   "outputs": [],
   "source": [
    "data.to_csv('HT4.csv',index=False)"
   ]
  },
  {
   "cell_type": "code",
   "execution_count": 2,
   "id": "a9e153b0",
   "metadata": {},
   "outputs": [
    {
     "data": {
      "text/html": [
       "<div>\n",
       "<style scoped>\n",
       "    .dataframe tbody tr th:only-of-type {\n",
       "        vertical-align: middle;\n",
       "    }\n",
       "\n",
       "    .dataframe tbody tr th {\n",
       "        vertical-align: top;\n",
       "    }\n",
       "\n",
       "    .dataframe thead th {\n",
       "        text-align: right;\n",
       "    }\n",
       "</style>\n",
       "<table border=\"1\" class=\"dataframe\">\n",
       "  <thead>\n",
       "    <tr style=\"text-align: right;\">\n",
       "      <th></th>\n",
       "      <th>tweet</th>\n",
       "      <th>OFF</th>\n",
       "      <th>HS</th>\n",
       "      <th>VLG</th>\n",
       "      <th>VIO</th>\n",
       "      <th>HS_HS1</th>\n",
       "      <th>HS_HS2</th>\n",
       "      <th>HS_HS3</th>\n",
       "      <th>HS_HS5</th>\n",
       "      <th>HS_HS6</th>\n",
       "      <th>HS_NOT_HS</th>\n",
       "    </tr>\n",
       "  </thead>\n",
       "  <tbody>\n",
       "    <tr>\n",
       "      <th>0</th>\n",
       "      <td>وصارت فطاير البقالات غذاء صحي 👎🏻 URL</td>\n",
       "      <td>0</td>\n",
       "      <td>NOT_HS</td>\n",
       "      <td>0</td>\n",
       "      <td>0</td>\n",
       "      <td>0</td>\n",
       "      <td>0</td>\n",
       "      <td>0</td>\n",
       "      <td>0</td>\n",
       "      <td>0</td>\n",
       "      <td>1</td>\n",
       "    </tr>\n",
       "    <tr>\n",
       "      <th>1</th>\n",
       "      <td>@USER روحي لبريده تلقين اشباه كثير بس ماحد زيك...</td>\n",
       "      <td>1</td>\n",
       "      <td>NOT_HS</td>\n",
       "      <td>0</td>\n",
       "      <td>0</td>\n",
       "      <td>0</td>\n",
       "      <td>0</td>\n",
       "      <td>0</td>\n",
       "      <td>0</td>\n",
       "      <td>0</td>\n",
       "      <td>1</td>\n",
       "    </tr>\n",
       "    <tr>\n",
       "      <th>2</th>\n",
       "      <td>@USER مش باين حاجه خالص 😣&lt;LF&gt;مش عارف بقى 😔</td>\n",
       "      <td>0</td>\n",
       "      <td>NOT_HS</td>\n",
       "      <td>0</td>\n",
       "      <td>0</td>\n",
       "      <td>0</td>\n",
       "      <td>0</td>\n",
       "      <td>0</td>\n",
       "      <td>0</td>\n",
       "      <td>0</td>\n",
       "      <td>1</td>\n",
       "    </tr>\n",
       "    <tr>\n",
       "      <th>3</th>\n",
       "      <td>#اليوم_الاثنين&lt;LF&gt;&lt;LF&gt;👏 يقولك :%90  من المسلمي...</td>\n",
       "      <td>0</td>\n",
       "      <td>NOT_HS</td>\n",
       "      <td>0</td>\n",
       "      <td>0</td>\n",
       "      <td>0</td>\n",
       "      <td>0</td>\n",
       "      <td>0</td>\n",
       "      <td>0</td>\n",
       "      <td>0</td>\n",
       "      <td>1</td>\n",
       "    </tr>\n",
       "    <tr>\n",
       "      <th>4</th>\n",
       "      <td>حمدلله ماحطها في فمي اساسا😷🤢 URL</td>\n",
       "      <td>0</td>\n",
       "      <td>NOT_HS</td>\n",
       "      <td>0</td>\n",
       "      <td>0</td>\n",
       "      <td>0</td>\n",
       "      <td>0</td>\n",
       "      <td>0</td>\n",
       "      <td>0</td>\n",
       "      <td>0</td>\n",
       "      <td>1</td>\n",
       "    </tr>\n",
       "  </tbody>\n",
       "</table>\n",
       "</div>"
      ],
      "text/plain": [
       "                                               tweet  OFF      HS  VLG  VIO  \\\n",
       "0               وصارت فطاير البقالات غذاء صحي 👎🏻 URL    0  NOT_HS    0    0   \n",
       "1  @USER روحي لبريده تلقين اشباه كثير بس ماحد زيك...    1  NOT_HS    0    0   \n",
       "2         @USER مش باين حاجه خالص 😣<LF>مش عارف بقى 😔    0  NOT_HS    0    0   \n",
       "3  #اليوم_الاثنين<LF><LF>👏 يقولك :%90  من المسلمي...    0  NOT_HS    0    0   \n",
       "4                   حمدلله ماحطها في فمي اساسا😷🤢 URL    0  NOT_HS    0    0   \n",
       "\n",
       "   HS_HS1  HS_HS2  HS_HS3  HS_HS5  HS_HS6  HS_NOT_HS  \n",
       "0       0       0       0       0       0          1  \n",
       "1       0       0       0       0       0          1  \n",
       "2       0       0       0       0       0          1  \n",
       "3       0       0       0       0       0          1  \n",
       "4       0       0       0       0       0          1  "
      ]
     },
     "execution_count": 2,
     "metadata": {},
     "output_type": "execute_result"
    }
   ],
   "source": [
    "data = pd.read_csv('HT4.csv')\n",
    "data.head()"
   ]
  },
  {
   "cell_type": "code",
   "execution_count": 4,
   "id": "ba16ffac",
   "metadata": {},
   "outputs": [
    {
     "data": {
      "text/plain": [
       "tweet        object\n",
       "OFF           int64\n",
       "HS           object\n",
       "VLG           int64\n",
       "VIO           int64\n",
       "HS_HS1        int64\n",
       "HS_HS2        int64\n",
       "HS_HS3        int64\n",
       "HS_HS5        int64\n",
       "HS_HS6        int64\n",
       "HS_NOT_HS     int64\n",
       "dtype: object"
      ]
     },
     "execution_count": 4,
     "metadata": {},
     "output_type": "execute_result"
    }
   ],
   "source": [
    "data.dtypes"
   ]
  },
  {
   "cell_type": "code",
   "execution_count": 16,
   "id": "d29617cd",
   "metadata": {},
   "outputs": [],
   "source": [
    "import emoji\n",
    "import nltk"
   ]
  },
  {
   "cell_type": "code",
   "execution_count": 20,
   "id": "6af56942",
   "metadata": {},
   "outputs": [
    {
     "data": {
      "text/plain": [
       "(8555,)"
      ]
     },
     "execution_count": 20,
     "metadata": {},
     "output_type": "execute_result"
    }
   ],
   "source": [
    "tweets = np.array(data.tweet)\n",
    "tweets.shape"
   ]
  },
  {
   "cell_type": "code",
   "execution_count": 39,
   "id": "fdc4d9cc",
   "metadata": {},
   "outputs": [
    {
     "data": {
      "text/plain": [
       "'وصارت فطاير البقالات غذاء صحي 👎🏻 URL'"
      ]
     },
     "execution_count": 39,
     "metadata": {},
     "output_type": "execute_result"
    }
   ],
   "source": [
    "tweets[0]"
   ]
  },
  {
   "cell_type": "code",
   "execution_count": 40,
   "id": "bf28879b",
   "metadata": {},
   "outputs": [
    {
     "data": {
      "text/plain": [
       "'وصارت فطاير البقالات غذاء صحي thumbs_down_light_skin_tone URL'"
      ]
     },
     "execution_count": 40,
     "metadata": {},
     "output_type": "execute_result"
    }
   ],
   "source": [
    "tweets_no_imo = []\n",
    "for i in tweets:\n",
    "    tweets_no_imo.append(emoji.demojize(i, delimiters=(\"\", \"\")))\n",
    "tweets_no_imo[0]"
   ]
  },
  {
   "cell_type": "code",
   "execution_count": 41,
   "id": "30b3aa02",
   "metadata": {},
   "outputs": [
    {
     "data": {
      "text/plain": [
       "['وصارت', 'فطاير', 'البقالات', 'غذاء', 'صحي', '👎🏻', 'URL']"
      ]
     },
     "execution_count": 41,
     "metadata": {},
     "output_type": "execute_result"
    }
   ],
   "source": [
    "# toknize words\n",
    "tokens = [] \n",
    "for i in tweets: \n",
    "    toks= nltk.word_tokenize(i)\n",
    "#     toks=emoji.demojize(toks, delimiters=(\"\", \"\"))\n",
    "    tokens.append(toks)\n",
    "tokens[0]"
   ]
  },
  {
   "cell_type": "code",
   "execution_count": 43,
   "id": "c2aa1db7",
   "metadata": {},
   "outputs": [
    {
     "data": {
      "text/plain": [
       "(0, 1)"
      ]
     },
     "execution_count": 43,
     "metadata": {},
     "output_type": "execute_result"
    }
   ],
   "source": [
    "data.OFF[0],data.HS_NOT_HS[0]"
   ]
  },
  {
   "cell_type": "code",
   "execution_count": 29,
   "id": "0833ccc6",
   "metadata": {},
   "outputs": [],
   "source": [
    "# replace emojies with meaning words\n"
   ]
  },
  {
   "cell_type": "code",
   "execution_count": null,
   "id": "b2dbf5b9",
   "metadata": {},
   "outputs": [],
   "source": [
    "# replace puncts"
   ]
  },
  {
   "cell_type": "code",
   "execution_count": null,
   "id": "458ff7bb",
   "metadata": {},
   "outputs": [],
   "source": [
    "# padding"
   ]
  },
  {
   "cell_type": "code",
   "execution_count": 89,
   "id": "ad8fde3f",
   "metadata": {},
   "outputs": [],
   "source": [
    "from sklearn.svm import SVC\n",
    "from sklearn.model_selection import train_test_split\n",
    "import numpy as np"
   ]
  },
  {
   "cell_type": "code",
   "execution_count": 90,
   "id": "c5503837",
   "metadata": {},
   "outputs": [],
   "source": [
    "model = SVC()\n",
    "\n",
    "x= np.array(data.tweet)\n",
    "y= np.array(data.OFF)\n",
    "\n",
    "x_train, x_test, y_train, y_test = train_test_split(x, y, test_size=0.3, random_state=42)"
   ]
  }
 ],
 "metadata": {
  "kernelspec": {
   "display_name": "Python 3 (ipykernel)",
   "language": "python",
   "name": "python3"
  },
  "language_info": {
   "codemirror_mode": {
    "name": "ipython",
    "version": 3
   },
   "file_extension": ".py",
   "mimetype": "text/x-python",
   "name": "python",
   "nbconvert_exporter": "python",
   "pygments_lexer": "ipython3",
   "version": "3.9.7"
  }
 },
 "nbformat": 4,
 "nbformat_minor": 5
}
